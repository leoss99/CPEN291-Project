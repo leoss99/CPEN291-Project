{
  "nbformat": 4,
  "nbformat_minor": 5,
  "metadata": {
    "kernelspec": {
      "display_name": "Python 3",
      "language": "python",
      "name": "python3"
    },
    "language_info": {
      "codemirror_mode": {
        "name": "ipython",
        "version": 3
      },
      "file_extension": ".py",
      "mimetype": "text/x-python",
      "name": "python",
      "nbconvert_exporter": "python",
      "pygments_lexer": "ipython3",
      "version": "3.8.5"
    },
    "colab": {
      "name": "recommender-system.ipynb",
      "provenance": [],
      "collapsed_sections": []
    }
  },
  "cells": [
    {
      "cell_type": "markdown",
      "metadata": {
        "id": "Opmi3UoOvbqO"
      },
      "source": [
        "Initial Recommender model"
      ],
      "id": "Opmi3UoOvbqO"
    },
    {
      "cell_type": "code",
      "metadata": {
        "id": "historical-acquisition"
      },
      "source": [
        "class HikeRecs(nn.Module):\n",
        "    def __init__(self, n_users, n_hikes, emb_dim):\n",
        "        super(HikeRecs, self).__init__()\n",
        "        self.user_emb = nn.Embedding(n_users, emb_dim)\n",
        "        self.movie_emb = nn.Embedding(n_movies, emb_dim)\n",
        "        nn.init.xavier_uniform_(self.user_emb.weight)\n",
        "        nn.init.xavier_uniform_(self.hikes_emb.weight)\n",
        "    \n",
        "    def forward(self, samples):\n",
        "        users = self.user_emb(samples[:,0])\n",
        "        hikes = self.movie_emb(samples[:,1])\n",
        "        return (users * hikes).sum(1)"
      ],
      "id": "historical-acquisition",
      "execution_count": null,
      "outputs": []
    },
    {
      "cell_type": "code",
      "metadata": {
        "id": "political-oregon"
      },
      "source": [
        "device = torch.device('cpu')\n",
        "\n",
        "def run_test(model, ldr, crit):\n",
        "    total_loss, total_count = 0, 0\n",
        "    model.eval()\n",
        "    tq_iters = tqdm(ldr, leave=False, desc='test iter')\n",
        "    with torch.no_grad():\n",
        "        for coords, labels in tq_iters:\n",
        "            coords, labels = coords.to(device), labels.to(device)\n",
        "            preds = model(coords)\n",
        "            loss = crit(preds, labels)\n",
        "            total_loss += loss.item() * labels.size(0)\n",
        "            total_count += labels.size(0)\n",
        "            tq_iters.set_postfix({'loss': total_loss/total_count}, refresh=True)\n",
        "    return total_loss / total_count\n",
        "\n",
        "def run_train(model, ldr, crit, opt, sched):\n",
        "    model.train()\n",
        "    total_loss, total_count = 0, 0\n",
        "    tq_iters = tqdm(ldr, leave=False, desc='train iter')\n",
        "    for (coords, labels) in tq_iters:\n",
        "        opt.zero_grad()\n",
        "        coords, labels = coords.to(device), labels.to(device)\n",
        "        preds = model(coords)\n",
        "        loss = crit(preds, labels)\n",
        "        loss.backward()\n",
        "        opt.step()\n",
        "        sched.step()\n",
        "        total_loss += loss.item() * labels.size(0)\n",
        "        total_count += labels.size(0)\n",
        "        tq_iters.set_postfix({'loss': total_loss/total_count}, refresh=True)\n",
        "    return total_loss / total_count\n",
        "\n",
        "def run_all(model, ldr_train, ldr_test, crit, opt, sched, n_epochs=10):\n",
        "    best_loss = np.inf\n",
        "    tq_epochs = tqdm(range(n_epochs), desc='epochs', unit='ep')\n",
        "    for epoch in tq_epochs:\n",
        "        train_loss = run_train(model, ldr_train, crit, opt, sched)\n",
        "        test_loss = run_test(model, ldr_test, crit)\n",
        "        tqdm.write(f'epoch {epoch}   train loss {train_loss:.6f}    test loss {test_loss:.6f}')\n",
        "        if test_loss < best_loss:\n",
        "            best_loss = test_loss\n",
        "            tq_epochs.set_postfix({'bE': epoch, 'bL': best_loss}, refresh=True)"
      ],
      "id": "political-oregon",
      "execution_count": null,
      "outputs": []
    },
    {
      "cell_type": "code",
      "metadata": {
        "id": "digital-repository"
      },
      "source": [
        "model = HikeRecs(ds_full.n_users, ds_full.n_hikes, 20)\n",
        "model.to(device)\n",
        "\n",
        "ldr_train = torch.utils.data.DataLoader(ds_train, batch_size=32, shuffle=True)\n",
        "ldr_test = torch.utils.data.DataLoader(ds_test, batch_size=32)\n",
        "\n",
        "n_epochs = 5\n",
        "\n",
        "crit = nn.MSELoss().to(device)\n",
        "opt = optim.SGD(model.parameters(), lr=1e-6, momentum=0.9)\n",
        "sched = optim.lr_scheduler.OneCycleLR(opt, max_lr=1, steps_per_epoch=len(ldr_train), epochs=n_epochs)\n",
        "\n",
        "run_all(model, ldr_train, ldr_test, crit, opt, sched, n_epochs)"
      ],
      "id": "digital-repository",
      "execution_count": null,
      "outputs": []
    }
  ]
}
