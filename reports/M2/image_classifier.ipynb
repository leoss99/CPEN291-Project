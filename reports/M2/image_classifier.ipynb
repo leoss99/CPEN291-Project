{
  "nbformat": 4,
  "nbformat_minor": 0,
  "metadata": {
    "colab": {
      "name": "image-classifier.ipynb",
      "provenance": []
    },
    "kernelspec": {
      "name": "python3",
      "display_name": "Python 3"
    },
    "language_info": {
      "name": "python"
    }
  },
  "cells": [
    {
      "cell_type": "markdown",
      "metadata": {
        "id": "2haG1-Z8wYHp"
      },
      "source": [
        "Image classifier for team ornithomimus."
      ]
    },
    {
      "cell_type": "code",
      "metadata": {
        "id": "5NiGP0XnwXnC"
      },
      "source": [
        ""
      ],
      "execution_count": null,
      "outputs": []
    },
    {
      "cell_type": "code",
      "metadata": {
        "id": "OqpWTHOVwEo7"
      },
      "source": [
        ""
      ],
      "execution_count": null,
      "outputs": []
    }
  ]
}